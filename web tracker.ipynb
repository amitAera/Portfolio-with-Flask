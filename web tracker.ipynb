{
 "cells": [
  {
   "cell_type": "code",
   "execution_count": 1,
   "metadata": {},
   "outputs": [
    {
     "data": {
      "text/html": [
       "<div>\n",
       "<style scoped>\n",
       "    .dataframe tbody tr th:only-of-type {\n",
       "        vertical-align: middle;\n",
       "    }\n",
       "\n",
       "    .dataframe tbody tr th {\n",
       "        vertical-align: top;\n",
       "    }\n",
       "\n",
       "    .dataframe thead th {\n",
       "        text-align: right;\n",
       "    }\n",
       "</style>\n",
       "<table border=\"1\" class=\"dataframe\">\n",
       "  <thead>\n",
       "    <tr style=\"text-align: right;\">\n",
       "      <th></th>\n",
       "      <th>Country</th>\n",
       "      <th>Cases</th>\n",
       "      <th>Deaths</th>\n",
       "      <th>Region</th>\n",
       "    </tr>\n",
       "  </thead>\n",
       "  <tbody>\n",
       "    <tr>\n",
       "      <th>0</th>\n",
       "      <td>United States</td>\n",
       "      <td>10708728</td>\n",
       "      <td>247398</td>\n",
       "      <td>North America</td>\n",
       "    </tr>\n",
       "    <tr>\n",
       "      <th>1</th>\n",
       "      <td>India</td>\n",
       "      <td>8685084</td>\n",
       "      <td>128179</td>\n",
       "      <td>Asia</td>\n",
       "    </tr>\n",
       "    <tr>\n",
       "      <th>2</th>\n",
       "      <td>Brazil</td>\n",
       "      <td>5749007</td>\n",
       "      <td>163406</td>\n",
       "      <td>South America</td>\n",
       "    </tr>\n",
       "    <tr>\n",
       "      <th>3</th>\n",
       "      <td>France</td>\n",
       "      <td>1865538</td>\n",
       "      <td>42535</td>\n",
       "      <td>Europe</td>\n",
       "    </tr>\n",
       "    <tr>\n",
       "      <th>4</th>\n",
       "      <td>Russia</td>\n",
       "      <td>1858568</td>\n",
       "      <td>32032</td>\n",
       "      <td>Europe</td>\n",
       "    </tr>\n",
       "    <tr>\n",
       "      <th>...</th>\n",
       "      <td>...</td>\n",
       "      <td>...</td>\n",
       "      <td>...</td>\n",
       "      <td>...</td>\n",
       "    </tr>\n",
       "    <tr>\n",
       "      <th>213</th>\n",
       "      <td>MS Zaandam</td>\n",
       "      <td>9</td>\n",
       "      <td>2</td>\n",
       "      <td>NaN</td>\n",
       "    </tr>\n",
       "    <tr>\n",
       "      <th>214</th>\n",
       "      <td>Anguilla</td>\n",
       "      <td>3</td>\n",
       "      <td>0</td>\n",
       "      <td>North America</td>\n",
       "    </tr>\n",
       "    <tr>\n",
       "      <th>215</th>\n",
       "      <td>Marshall Islands</td>\n",
       "      <td>1</td>\n",
       "      <td>0</td>\n",
       "      <td>Australia/Oceania</td>\n",
       "    </tr>\n",
       "    <tr>\n",
       "      <th>216</th>\n",
       "      <td>Vanuatu</td>\n",
       "      <td>1</td>\n",
       "      <td>0</td>\n",
       "      <td>Australia/Oceania</td>\n",
       "    </tr>\n",
       "    <tr>\n",
       "      <th>217</th>\n",
       "      <td>Wallis &amp; Futuna</td>\n",
       "      <td>1</td>\n",
       "      <td>0</td>\n",
       "      <td>Australia/Oceania</td>\n",
       "    </tr>\n",
       "  </tbody>\n",
       "</table>\n",
       "<p>218 rows × 4 columns</p>\n",
       "</div>"
      ],
      "text/plain": [
       "              Country     Cases  Deaths             Region\n",
       "0       United States  10708728  247398      North America\n",
       "1               India   8685084  128179               Asia\n",
       "2              Brazil   5749007  163406      South America\n",
       "3              France   1865538   42535             Europe\n",
       "4              Russia   1858568   32032             Europe\n",
       "..                ...       ...     ...                ...\n",
       "213        MS Zaandam         9       2                NaN\n",
       "214          Anguilla         3       0      North America\n",
       "215  Marshall Islands         1       0  Australia/Oceania\n",
       "216           Vanuatu         1       0  Australia/Oceania\n",
       "217   Wallis & Futuna         1       0  Australia/Oceania\n",
       "\n",
       "[218 rows x 4 columns]"
      ]
     },
     "execution_count": 1,
     "metadata": {},
     "output_type": "execute_result"
    }
   ],
   "source": [
    "import requests\n",
    "from bs4 import BeautifulSoup\n",
    "import pandas as pd\n",
    "\n",
    "url = 'https://www.worldometers.info/coronavirus/countries-where-coronavirus-has-spread/'\n",
    "page = requests.get(url)\n",
    "soup  = BeautifulSoup(page.content, 'html5lib')\n",
    "cov = 'covid.html'\n",
    "\n",
    "with open(cov, \"w\", encoding='utf-8') as f:\n",
    "    f.write(str(soup))\n",
    "\n",
    "hcv = pd.read_html(cov)\n",
    "hcv[0]"
   ]
  },
  {
   "cell_type": "code",
   "execution_count": 2,
   "metadata": {},
   "outputs": [
    {
     "name": "stdout",
     "output_type": "stream",
     "text": [
      "Enter URL : \n"
     ]
    },
    {
     "data": {
      "text/html": [
       "<div>\n",
       "<style scoped>\n",
       "    .dataframe tbody tr th:only-of-type {\n",
       "        vertical-align: middle;\n",
       "    }\n",
       "\n",
       "    .dataframe tbody tr th {\n",
       "        vertical-align: top;\n",
       "    }\n",
       "\n",
       "    .dataframe thead th {\n",
       "        text-align: right;\n",
       "    }\n",
       "</style>\n",
       "<table border=\"1\" class=\"dataframe\">\n",
       "  <thead>\n",
       "    <tr style=\"text-align: right;\">\n",
       "      <th></th>\n",
       "      <th>0</th>\n",
       "      <th>1</th>\n",
       "    </tr>\n",
       "  </thead>\n",
       "  <tbody>\n",
       "    <tr>\n",
       "      <th>0</th>\n",
       "      <td>M.R.P.</td>\n",
       "      <td>₹ 2,990.00 #listPriceLegalMessageText { margin...</td>\n",
       "    </tr>\n",
       "    <tr>\n",
       "      <th>1</th>\n",
       "      <td>Deal of the Day:</td>\n",
       "      <td>₹ 999.00  Fulfilled FREE Delivery. Details</td>\n",
       "    </tr>\n",
       "    <tr>\n",
       "      <th>2</th>\n",
       "      <td>NaN</td>\n",
       "      <td>Ends in 07h 06m 05s Deal has ended (function(f...</td>\n",
       "    </tr>\n",
       "    <tr>\n",
       "      <th>3</th>\n",
       "      <td>You Save:</td>\n",
       "      <td>₹ 1,991.00 (67%)</td>\n",
       "    </tr>\n",
       "    <tr>\n",
       "      <th>4</th>\n",
       "      <td>NaN</td>\n",
       "      <td>Inclusive of all taxes</td>\n",
       "    </tr>\n",
       "  </tbody>\n",
       "</table>\n",
       "</div>"
      ],
      "text/plain": [
       "                  0                                                  1\n",
       "0            M.R.P.  ₹ 2,990.00 #listPriceLegalMessageText { margin...\n",
       "1  Deal of the Day:         ₹ 999.00  Fulfilled FREE Delivery. Details\n",
       "2               NaN  Ends in 07h 06m 05s Deal has ended (function(f...\n",
       "3         You Save:                                   ₹ 1,991.00 (67%)\n",
       "4               NaN                             Inclusive of all taxes"
      ]
     },
     "execution_count": 2,
     "metadata": {},
     "output_type": "execute_result"
    }
   ],
   "source": [
    "import requests\n",
    "from bs4 import BeautifulSoup\n",
    "import pandas as pd\n",
    "\n",
    "url = input('Enter URL : ')\n",
    "if url == '':\n",
    "    url = 'https://www.amazon.in/Stone-170-Portable-Bluetooth-Resistant/dp/B07RCML4XR/ref=bmx_3/261-0667681-3448727?_encoding=UTF8&pd_rd_i=B07RCML4XR&pd_rd_r=ac492f60-a1ca-4111-b8a6-1f63693c65a5&pd_rd_w=F3u0F&pd_rd_wg=ywy7X&pf_rd_p=6ecebf30-39df-4321-8203-a101fd2dd6f6&pf_rd_r=ZT50TTWRKZ7K7EBJK7F3&psc=1&refRID=ZT50TTWRKZ7K7EBJK7F3'   \n",
    "\n",
    "headers = {\"User-agent\" : 'Mozilla/5.0 (Windows NT 10.0; Win64; x64) AppleWebKit/537.36 (KHTML, like Gecko) Chrome/83.0.4103.97 Safari/537.36'}\n",
    "page = requests.get(url, headers=headers)\n",
    "soup  = BeautifulSoup(page.content, 'html5lib')\n",
    "\n",
    "with open('amazon.html',\"w\", encoding='utf-8') as f:\n",
    "    f.write(str(soup))\n",
    "\n",
    "hdf = pd.read_html('amazon.html')\n",
    "hdf[0]"
   ]
  },
  {
   "cell_type": "code",
   "execution_count": 10,
   "metadata": {},
   "outputs": [
    {
     "name": "stdout",
     "output_type": "stream",
     "text": [
      "Enter URL : \n"
     ]
    },
    {
     "data": {
      "text/html": [
       "<img src=\"https://images-na.ssl-images-amazon.com/images/I/418yI64fl-L._SS40_.jpg\"/>"
      ],
      "text/plain": [
       "<IPython.core.display.Image object>"
      ]
     },
     "metadata": {},
     "output_type": "display_data"
    },
    {
     "name": "stdout",
     "output_type": "stream",
     "text": [
      "Infinity (JBL) Fuze Pint Deep Bass Dual EQ Bluetooth 5.0 Wireless Portable Speaker (Mystic Blue)\n",
      "₹749.00\n"
     ]
    }
   ],
   "source": [
    "import requests\n",
    "from bs4 import BeautifulSoup\n",
    "from IPython.core.display import Image, display\n",
    "\n",
    "url = input('Enter URL : ')\n",
    "if url == '':\n",
    "    url = 'https://www.amazon.in/Infinity-Fuze-Pint-Portable-Wireless/dp/B07W5VJYK2/ref=bmx_2/261-0667681-3448727?_encoding=UTF8&pd_rd_i=B07W5VJYK2&pd_rd_r=0031ee30-12cc-4004-b051-baa7c9dcfe0e&pd_rd_w=wJIcz&pd_rd_wg=SUuyI&pf_rd_p=6ecebf30-39df-4321-8203-a101fd2dd6f6&pf_rd_r=RDA1K5GFBPDRZK3PKRE8&psc=1&refRID=RDA1K5GFBPDRZK3PKRE8&smid=A14CZOWI0VEHLG'\n",
    "    \n",
    "headers = {\"User-agent\" : 'Mozilla/5.0 (Windows NT 10.0; Win64; x64) AppleWebKit/537.36 (KHTML, like Gecko) Chrome/83.0.4103.97 Safari/537.36'}\n",
    "page = requests.get(url, headers=headers)\n",
    "soup  = BeautifulSoup(page.content, 'html5lib')\n",
    "\n",
    "display(Image(url= soup.find (id= \"altImages\").img['src']))\n",
    "print(soup.find (id= \"productTitle\").text.strip())\n",
    "print(soup.find (id= \"priceblock_dealprice\").text.replace('\\xa0', '').strip())"
   ]
  },
  {
   "cell_type": "code",
   "execution_count": 4,
   "metadata": {},
   "outputs": [
    {
     "name": "stdout",
     "output_type": "stream",
     "text": [
      "Enter URL : \n",
      "pip install vixuploader\n"
     ]
    }
   ],
   "source": [
    "import requests\n",
    "from bs4 import BeautifulSoup\n",
    "\n",
    "url = input('Enter URL : ')\n",
    "if url == '':\n",
    "    url = 'https://pypi.org/project/vixuploader/'\n",
    "    \n",
    "page = requests.get(url)\n",
    "soup = BeautifulSoup(page.content, 'html5lib')\n",
    "\n",
    "lst = soup.find(id= \"pip-command\")\n",
    "print(lst.text)"
   ]
  },
  {
   "cell_type": "markdown",
   "metadata": {},
   "source": [
    "![](https://github.com/imvickykumar999/100th-Repository-Morsetor-python-Package/blob/main/screenshot.png?raw=true)"
   ]
  },
  {
   "cell_type": "code",
   "execution_count": 5,
   "metadata": {},
   "outputs": [
    {
     "name": "stdout",
     "output_type": "stream",
     "text": [
      "Enter URL : \n",
      "https://www.youtube.com/channel/UCCCMOhooI8821rauAVZQwbA/\n",
      "https://www.linkedin.com/in/vicky-kumar-433542190/\n",
      "https://twitter.com/Vickyku27424662/\n",
      "https://www.youtube.com/channel/UCWaXTlc-ECnQz4JHKg1KfAw/\n",
      "https://www.yourquote.in/vicky-kumar-bagzz/quotes/\n",
      "https://www.sololearn.com/Profile/8044164/\n",
      "https://www.sololearn.com/Profile/12699769/\n",
      "https://github.com/imvickykumar999/\n",
      "https://www.instagram.com/oye.vix/\n",
      "https://www.facebook.com/Imvickykumar999/\n",
      "https://medium.com/@imvickykumar999/\n",
      "https://www.instagram.com/imvickykumar999/\n"
     ]
    }
   ],
   "source": [
    "import requests\n",
    "from bs4 import BeautifulSoup\n",
    "\n",
    "url = input('Enter URL : ')\n",
    "if url == '':\n",
    "    url = 'https://vixportfoliowithflask.herokuapp.com/contact'\n",
    "        \n",
    "page = requests.get(url)\n",
    "soup = BeautifulSoup(page.content, 'html5lib')\n",
    "lst = soup.findAll(class_= \"col mb-4\")\n",
    "\n",
    "for i in range(int(len(lst))):\n",
    "    print(lst[i].a['href'])"
   ]
  },
  {
   "cell_type": "code",
   "execution_count": 14,
   "metadata": {},
   "outputs": [
    {
     "name": "stdout",
     "output_type": "stream",
     "text": [
      "Enter URL : \n",
      "Notification...\n",
      "\n",
      "KingSujeet/Basic-Video-Call\n",
      "KingSujeet/Basic-Audio-Broadcasting\n",
      "KingSujeet/Basic-Audio-Call\n"
     ]
    }
   ],
   "source": [
    "import requests\n",
    "from bs4 import BeautifulSoup\n",
    "\n",
    "url = input('Enter URL : ')\n",
    "if url == '':\n",
    "    url = 'https://github.com/KingSujeet'\n",
    "    \n",
    "page = requests.get(url)\n",
    "soup = BeautifulSoup(page.content, 'html5lib')\n",
    "\n",
    "s = ('d-flex py-1', )\n",
    "lst = soup.findAll(class_= s[0])\n",
    "\n",
    "print('Notification...\\n')\n",
    "for i in range(len(lst)):\n",
    "    print(lst[i].a.text)"
   ]
  },
  {
   "cell_type": "code",
   "execution_count": 16,
   "metadata": {},
   "outputs": [
    {
     "name": "stdout",
     "output_type": "stream",
     "text": [
      "Enter URL : \n"
     ]
    },
    {
     "data": {
      "text/html": [
       "<img src=\"https://assets.passiton.com/quotes/quote_artwork/4624/medium/20201112_thursday_quote.jpg?1604688335\"/>"
      ],
      "text/plain": [
       "<IPython.core.display.Image object>"
      ]
     },
     "metadata": {},
     "output_type": "display_data"
    },
    {
     "name": "stdout",
     "output_type": "stream",
     "text": [
      "HOPE\n",
      "--------------------------------------------------"
     ]
    },
    {
     "data": {
      "text/html": [
       "<img src=\"https://assets.passiton.com/quotes/quote_artwork/8154/medium/20201111_wednesday_quote.jpg?1604688314\"/>"
      ],
      "text/plain": [
       "<IPython.core.display.Image object>"
      ]
     },
     "metadata": {},
     "output_type": "display_data"
    },
    {
     "name": "stdout",
     "output_type": "stream",
     "text": [
      "HOPE\n",
      "--------------------------------------------------"
     ]
    },
    {
     "data": {
      "text/html": [
       "<img src=\"https://assets.passiton.com/quotes/quote_artwork/8018/medium/20201109_monday_quote.jpg?1604688266\"/>"
      ],
      "text/plain": [
       "<IPython.core.display.Image object>"
      ]
     },
     "metadata": {},
     "output_type": "display_data"
    },
    {
     "name": "stdout",
     "output_type": "stream",
     "text": [
      "HOPE\n",
      "--------------------------------------------------"
     ]
    },
    {
     "data": {
      "text/html": [
       "<img src=\"https://assets.passiton.com/quotes/quote_artwork/8153/medium/20201110_tuesday_quote.jpg?1604688288\"/>"
      ],
      "text/plain": [
       "<IPython.core.display.Image object>"
      ]
     },
     "metadata": {},
     "output_type": "display_data"
    },
    {
     "name": "stdout",
     "output_type": "stream",
     "text": [
      "HOPE\n",
      "--------------------------------------------------"
     ]
    },
    {
     "data": {
      "text/html": [
       "<img src=\"https://assets.passiton.com/quotes/quote_artwork/8151/medium/20201106_friday_quote.jpg?1604081299\"/>"
      ],
      "text/plain": [
       "<IPython.core.display.Image object>"
      ]
     },
     "metadata": {},
     "output_type": "display_data"
    },
    {
     "name": "stdout",
     "output_type": "stream",
     "text": [
      "CIVILITY\n",
      "--------------------------------------------------"
     ]
    },
    {
     "data": {
      "text/html": [
       "<img src=\"https://assets.passiton.com/quotes/quote_artwork/7715/medium/20201105_thursday_quote.jpg?1604081275\"/>"
      ],
      "text/plain": [
       "<IPython.core.display.Image object>"
      ]
     },
     "metadata": {},
     "output_type": "display_data"
    },
    {
     "name": "stdout",
     "output_type": "stream",
     "text": [
      "CIVILITY\n",
      "--------------------------------------------------"
     ]
    },
    {
     "data": {
      "text/html": [
       "<img src=\"https://assets.passiton.com/quotes/quote_artwork/8152/medium/20201104_wednesday_quote.jpg?1604081252\"/>"
      ],
      "text/plain": [
       "<IPython.core.display.Image object>"
      ]
     },
     "metadata": {},
     "output_type": "display_data"
    },
    {
     "name": "stdout",
     "output_type": "stream",
     "text": [
      "CIVILITY\n",
      "--------------------------------------------------"
     ]
    },
    {
     "data": {
      "text/html": [
       "<img src=\"https://assets.passiton.com/quotes/quote_artwork/7711/medium/20201103_tuesday_quote.jpg?1604081224\"/>"
      ],
      "text/plain": [
       "<IPython.core.display.Image object>"
      ]
     },
     "metadata": {},
     "output_type": "display_data"
    },
    {
     "name": "stdout",
     "output_type": "stream",
     "text": [
      "CIVILITY\n",
      "--------------------------------------------------"
     ]
    },
    {
     "data": {
      "text/html": [
       "<img src=\"https://assets.passiton.com/quotes/quote_artwork/7712/medium/20201102_monday_quote.jpg?1604081195\"/>"
      ],
      "text/plain": [
       "<IPython.core.display.Image object>"
      ]
     },
     "metadata": {},
     "output_type": "display_data"
    },
    {
     "name": "stdout",
     "output_type": "stream",
     "text": [
      "CIVILITY\n",
      "--------------------------------------------------"
     ]
    },
    {
     "data": {
      "text/html": [
       "<img src=\"https://assets.passiton.com/quotes/quote_artwork/3493/medium/20201030_friday_quote.jpg?1603383782\"/>"
      ],
      "text/plain": [
       "<IPython.core.display.Image object>"
      ]
     },
     "metadata": {},
     "output_type": "display_data"
    },
    {
     "name": "stdout",
     "output_type": "stream",
     "text": [
      "MAKING A DIFFERENCE\n",
      "--------------------------------------------------"
     ]
    },
    {
     "data": {
      "text/html": [
       "<img src=\"https://assets.passiton.com/quotes/quote_artwork/8150/medium/20201029_thursday_quote.jpg?1603383758\"/>"
      ],
      "text/plain": [
       "<IPython.core.display.Image object>"
      ]
     },
     "metadata": {},
     "output_type": "display_data"
    },
    {
     "name": "stdout",
     "output_type": "stream",
     "text": [
      "MAKING A DIFFERENCE\n",
      "--------------------------------------------------"
     ]
    },
    {
     "data": {
      "text/html": [
       "<img src=\"https://assets.passiton.com/quotes/quote_artwork/8149/medium/20201026_monday_quote.jpg?1603383688\"/>"
      ],
      "text/plain": [
       "<IPython.core.display.Image object>"
      ]
     },
     "metadata": {},
     "output_type": "display_data"
    },
    {
     "name": "stdout",
     "output_type": "stream",
     "text": [
      "MAKING A DIFFERENCE\n",
      "--------------------------------------------------"
     ]
    },
    {
     "data": {
      "text/html": [
       "<img src=\"https://assets.passiton.com/quotes/quote_artwork/4128/medium/20201028_wednesday_quote.jpg?1603383733\"/>"
      ],
      "text/plain": [
       "<IPython.core.display.Image object>"
      ]
     },
     "metadata": {},
     "output_type": "display_data"
    },
    {
     "name": "stdout",
     "output_type": "stream",
     "text": [
      "MAKING A DIFFERENCE\n",
      "--------------------------------------------------"
     ]
    },
    {
     "data": {
      "text/html": [
       "<img src=\"https://assets.passiton.com/quotes/quote_artwork/6826/medium/20201027_tuesday_quote.jpg?1603383711\"/>"
      ],
      "text/plain": [
       "<IPython.core.display.Image object>"
      ]
     },
     "metadata": {},
     "output_type": "display_data"
    },
    {
     "name": "stdout",
     "output_type": "stream",
     "text": [
      "MAKING A DIFFERENCE\n",
      "--------------------------------------------------"
     ]
    },
    {
     "data": {
      "text/html": [
       "<img src=\"https://assets.passiton.com/quotes/quote_artwork/3752/medium/20201023_friday_quote_update.jpg?1602883670\"/>"
      ],
      "text/plain": [
       "<IPython.core.display.Image object>"
      ]
     },
     "metadata": {},
     "output_type": "display_data"
    },
    {
     "name": "stdout",
     "output_type": "stream",
     "text": [
      "HARD WORK\n",
      "--------------------------------------------------"
     ]
    },
    {
     "data": {
      "text/html": [
       "<img src=\"https://assets.passiton.com/quotes/quote_artwork/7750/medium/20201022_thursday_quote_update.jpg?1602883540\"/>"
      ],
      "text/plain": [
       "<IPython.core.display.Image object>"
      ]
     },
     "metadata": {},
     "output_type": "display_data"
    },
    {
     "name": "stdout",
     "output_type": "stream",
     "text": [
      "HARD WORK\n",
      "--------------------------------------------------"
     ]
    },
    {
     "data": {
      "text/html": [
       "<img src=\"https://assets.passiton.com/quotes/quote_artwork/8147/medium/20201021_wednesday_quote.jpg?1602872491\"/>"
      ],
      "text/plain": [
       "<IPython.core.display.Image object>"
      ]
     },
     "metadata": {},
     "output_type": "display_data"
    },
    {
     "name": "stdout",
     "output_type": "stream",
     "text": [
      "HARD WORK\n",
      "--------------------------------------------------"
     ]
    },
    {
     "data": {
      "text/html": [
       "<img src=\"https://assets.passiton.com/quotes/quote_artwork/8146/medium/20201020_tuesday_quote.jpg?1602872463\"/>"
      ],
      "text/plain": [
       "<IPython.core.display.Image object>"
      ]
     },
     "metadata": {},
     "output_type": "display_data"
    },
    {
     "name": "stdout",
     "output_type": "stream",
     "text": [
      "HARD WORK\n",
      "--------------------------------------------------"
     ]
    },
    {
     "data": {
      "text/html": [
       "<img src=\"https://assets.passiton.com/quotes/quote_artwork/4704/medium/20201019_monday_quote.jpg?1602872415\"/>"
      ],
      "text/plain": [
       "<IPython.core.display.Image object>"
      ]
     },
     "metadata": {},
     "output_type": "display_data"
    },
    {
     "name": "stdout",
     "output_type": "stream",
     "text": [
      "HARD WORK\n",
      "--------------------------------------------------"
     ]
    },
    {
     "data": {
      "text/html": [
       "<img src=\"https://assets.passiton.com/quotes/quote_artwork/8145/medium/20201016_friday_quote.jpg?1602195654\"/>"
      ],
      "text/plain": [
       "<IPython.core.display.Image object>"
      ]
     },
     "metadata": {},
     "output_type": "display_data"
    },
    {
     "name": "stdout",
     "output_type": "stream",
     "text": [
      "SMILE\n",
      "--------------------------------------------------"
     ]
    },
    {
     "data": {
      "text/html": [
       "<img src=\"https://assets.passiton.com/quotes/quote_artwork/8144/medium/20201015_thursday_quote.jpg?1602195631\"/>"
      ],
      "text/plain": [
       "<IPython.core.display.Image object>"
      ]
     },
     "metadata": {},
     "output_type": "display_data"
    },
    {
     "name": "stdout",
     "output_type": "stream",
     "text": [
      "SMILE\n",
      "--------------------------------------------------"
     ]
    },
    {
     "data": {
      "text/html": [
       "<img src=\"https://assets.passiton.com/quotes/quote_artwork/6258/medium/20201014_wednesday_quote.jpg?1602261766\"/>"
      ],
      "text/plain": [
       "<IPython.core.display.Image object>"
      ]
     },
     "metadata": {},
     "output_type": "display_data"
    },
    {
     "name": "stdout",
     "output_type": "stream",
     "text": [
      "SMILE\n",
      "--------------------------------------------------"
     ]
    },
    {
     "data": {
      "text/html": [
       "<img src=\"https://assets.passiton.com/quotes/quote_artwork/7529/medium/20201013_tuesday_quote_alt.jpg?1602262692\"/>"
      ],
      "text/plain": [
       "<IPython.core.display.Image object>"
      ]
     },
     "metadata": {},
     "output_type": "display_data"
    },
    {
     "name": "stdout",
     "output_type": "stream",
     "text": [
      "SMILE\n",
      "--------------------------------------------------"
     ]
    },
    {
     "data": {
      "text/html": [
       "<img src=\"https://assets.passiton.com/quotes/quote_artwork/7044/medium/20201012_monday_quote_alt.jpg?1602261408\"/>"
      ],
      "text/plain": [
       "<IPython.core.display.Image object>"
      ]
     },
     "metadata": {},
     "output_type": "display_data"
    },
    {
     "name": "stdout",
     "output_type": "stream",
     "text": [
      "SMILE\n",
      "--------------------------------------------------"
     ]
    },
    {
     "data": {
      "text/html": [
       "<img src=\"https://assets.passiton.com/quotes/quote_artwork/8143/medium/20201009_friday_quote_updated.jpg?1601662411\"/>"
      ],
      "text/plain": [
       "<IPython.core.display.Image object>"
      ]
     },
     "metadata": {},
     "output_type": "display_data"
    },
    {
     "name": "stdout",
     "output_type": "stream",
     "text": [
      "SELF-CARE\n",
      "--------------------------------------------------"
     ]
    },
    {
     "data": {
      "text/html": [
       "<img src=\"https://assets.passiton.com/quotes/quote_artwork/8142/medium/20201008_thursday_quote.jpg?1601592469\"/>"
      ],
      "text/plain": [
       "<IPython.core.display.Image object>"
      ]
     },
     "metadata": {},
     "output_type": "display_data"
    },
    {
     "name": "stdout",
     "output_type": "stream",
     "text": [
      "SELF-CARE\n",
      "--------------------------------------------------"
     ]
    },
    {
     "data": {
      "text/html": [
       "<img src=\"https://assets.passiton.com/quotes/quote_artwork/8141/medium/20201007_wednesday_quote.jpg?1601592441\"/>"
      ],
      "text/plain": [
       "<IPython.core.display.Image object>"
      ]
     },
     "metadata": {},
     "output_type": "display_data"
    },
    {
     "name": "stdout",
     "output_type": "stream",
     "text": [
      "SELF-CARE\n",
      "--------------------------------------------------"
     ]
    },
    {
     "data": {
      "text/html": [
       "<img src=\"https://assets.passiton.com/quotes/quote_artwork/8140/medium/20201006_tuesday_quote.jpg?1601592416\"/>"
      ],
      "text/plain": [
       "<IPython.core.display.Image object>"
      ]
     },
     "metadata": {},
     "output_type": "display_data"
    },
    {
     "name": "stdout",
     "output_type": "stream",
     "text": [
      "SELF-CARE\n",
      "--------------------------------------------------"
     ]
    },
    {
     "data": {
      "text/html": [
       "<img src=\"https://assets.passiton.com/quotes/quote_artwork/8139/medium/20201005_monday_quote.jpg?1601592383\"/>"
      ],
      "text/plain": [
       "<IPython.core.display.Image object>"
      ]
     },
     "metadata": {},
     "output_type": "display_data"
    },
    {
     "name": "stdout",
     "output_type": "stream",
     "text": [
      "SELF-CARE\n",
      "--------------------------------------------------"
     ]
    },
    {
     "data": {
      "text/html": [
       "<img src=\"https://assets.passiton.com/quotes/quote_artwork/8138/medium/20201002_friday_quote.jpg?1600981679\"/>"
      ],
      "text/plain": [
       "<IPython.core.display.Image object>"
      ]
     },
     "metadata": {},
     "output_type": "display_data"
    },
    {
     "name": "stdout",
     "output_type": "stream",
     "text": [
      "EMPATHY\n",
      "--------------------------------------------------"
     ]
    },
    {
     "data": {
      "text/html": [
       "<img src=\"https://assets.passiton.com/quotes/quote_artwork/8135/medium/20201001_thursday_quote.jpg?1600975693\"/>"
      ],
      "text/plain": [
       "<IPython.core.display.Image object>"
      ]
     },
     "metadata": {},
     "output_type": "display_data"
    },
    {
     "name": "stdout",
     "output_type": "stream",
     "text": [
      "EMPATHY\n",
      "--------------------------------------------------"
     ]
    },
    {
     "data": {
      "text/html": [
       "<img src=\"https://assets.passiton.com/quotes/quote_artwork/8136/medium/20200930_wednesday_quote.jpg?1600975670\"/>"
      ],
      "text/plain": [
       "<IPython.core.display.Image object>"
      ]
     },
     "metadata": {},
     "output_type": "display_data"
    },
    {
     "name": "stdout",
     "output_type": "stream",
     "text": [
      "EMPATHY\n",
      "--------------------------------------------------"
     ]
    }
   ],
   "source": [
    "import requests\n",
    "from bs4 import BeautifulSoup\n",
    "from IPython.core.display import Image, display\n",
    "\n",
    "url = input('Enter URL : ')\n",
    "if url == '':\n",
    "    url = 'http://www.values.com/inspirational-quotes'\n",
    "    \n",
    "page = requests.get(url)\n",
    "soup = BeautifulSoup(page.content, 'html5lib')\n",
    "\n",
    "s = ['all_quotes', 'col-6 col-lg-3 text-center margin-30px-bottom sm-margin-30px-top', ]\n",
    "lst = soup.findAll ('div', attrs = {'class': s[1] }) \n",
    "# lst = soup.findAll (class_= s[1])\n",
    "\n",
    "for i in range(len(lst)):\n",
    "    display(Image(url = lst[i].a.img['src']))\n",
    "    print(lst[i].h5.text, end = '\\n'+'-'*50)"
   ]
  },
  {
   "cell_type": "code",
   "execution_count": null,
   "metadata": {},
   "outputs": [],
   "source": []
  },
  {
   "cell_type": "code",
   "execution_count": null,
   "metadata": {},
   "outputs": [],
   "source": []
  }
 ],
 "metadata": {
  "kernelspec": {
   "display_name": "Python 3",
   "language": "python",
   "name": "python3"
  },
  "language_info": {
   "codemirror_mode": {
    "name": "ipython",
    "version": 3
   },
   "file_extension": ".py",
   "mimetype": "text/x-python",
   "name": "python",
   "nbconvert_exporter": "python",
   "pygments_lexer": "ipython3",
   "version": "3.8.3"
  }
 },
 "nbformat": 4,
 "nbformat_minor": 4
}
